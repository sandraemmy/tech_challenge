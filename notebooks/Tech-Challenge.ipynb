{
 "cells": [
  {
   "cell_type": "markdown",
   "metadata": {},
   "source": [
    "<h1 style=\"color: #FF8C00;\">Portfolio Analysis: Python Challenge</h1>\n",
    "\n",
    "---\n",
    "\n",
    "**This challenge** represents a practical tech assignment designed to test your skills in portfolio analysis. \n",
    "\n",
    "Portfolio analysis is a systematic way to evaluate investment portfolios to optimize asset allocation and management. It involves a variety of financial metrics and visualizations to assess the performance and risk of different financial assets.\n",
    "\n",
    "- In this exercise, you will be required to perform a series of calculations and create visualizations to analyze a set of financial assets.\n",
    "- Your task is to develop the necessary code to accomplish each of these tasks effectively.\n",
    "- This challenge is an opportunity to demonstrate your ability to apply Python programming skills in a real-world financial context."
   ]
  },
  {
   "cell_type": "markdown",
   "metadata": {},
   "source": [
    "<h1 style=\"color: #FF8C00;\">Libraries</h1>"
   ]
  },
  {
   "cell_type": "code",
   "execution_count": 1,
   "metadata": {},
   "outputs": [],
   "source": [
    "# Insert your code here"
   ]
  },
  {
   "cell_type": "markdown",
   "metadata": {},
   "source": [
    "<h1 style=\"color: #FF8C00;\">Exercise 1: Data Loading and Price Charting</h1>\n",
    "\n",
    "---\n",
    "\n",
    "You are tasked with loading and analyzing financial data, which is foundational for effective portfolio management. Begin by loading the file named `asset_price_data.csv`, containing essential pricing information for various financial assets.\n",
    "\n",
    "Post data loading, your objective is to visualize this data through a time series graph.The integrity of your analysis depends heavily on your ability to visualize trends accurately while ensuring all asset price series begin at a uniform value."
   ]
  },
  {
   "cell_type": "code",
   "execution_count": null,
   "metadata": {},
   "outputs": [],
   "source": [
    "# Insert your code here"
   ]
  },
  {
   "cell_type": "markdown",
   "metadata": {},
   "source": [
    "<h1 style=\"color: #FF8C00;\">Exercise 2: Daily Percentage Returns</h1>\n",
    "\n",
    "---\n",
    "\n",
    "You are required to calculate the daily percentage returns for each financial asset. Utilize this data to accomplish the following:\n",
    "- Calculate the correlation matrix for the five assets.\n",
    "- Create a scatter plot comparing the returns of two specific assets."
   ]
  },
  {
   "cell_type": "markdown",
   "metadata": {},
   "source": [
    "<h2 style=\"color: #FF6347;\">Daily Returns Calculation.</h2>"
   ]
  },
  {
   "cell_type": "code",
   "execution_count": 3,
   "metadata": {},
   "outputs": [],
   "source": [
    "# Insert your code here"
   ]
  },
  {
   "cell_type": "markdown",
   "metadata": {},
   "source": [
    "<h2 style=\"color: #FF6347;\">Correlation Matrix Calculation.</h2>"
   ]
  },
  {
   "cell_type": "code",
   "execution_count": 4,
   "metadata": {},
   "outputs": [],
   "source": [
    "# Insert your code here"
   ]
  },
  {
   "cell_type": "markdown",
   "metadata": {
    "tags": []
   },
   "source": [
    "<h2 style=\"color: #FF6347;\">Scatter Plot between the Returns of Two Assets.</h2>"
   ]
  },
  {
   "cell_type": "code",
   "execution_count": 5,
   "metadata": {},
   "outputs": [],
   "source": [
    "# Insert your code here"
   ]
  },
  {
   "cell_type": "markdown",
   "metadata": {},
   "source": [
    "<h1 style=\"color: #FF8C00;\">Exercise 3: Portfolio Analysis</h1>\n",
    "\n",
    "---\n",
    "\n",
    "This third exercise focuses on calculating and analyzing the performance of a portfolio. Begin by loading the file named `portfolio_weights.csv`, which contains the daily weights of each asset in the portfolio.\n",
    "\n",
    "To complete the exercise, you will need to perform the following tasks:\n",
    "- Create an area chart of the asset weights.\n",
    "- Plot the historical cumulative returns of the portfolio.\n",
    "- Calculate the annualized return of the portfolio.\n",
    "- Determine the annualized volatility of the portfolio (using an annualization factor of 261 days).\n",
    "- Produce an area chart grouping asset weights by their categories, as detailed in the `asset_information_data.csv`."
   ]
  },
  {
   "cell_type": "markdown",
   "metadata": {
    "tags": []
   },
   "source": [
    "<h2 style=\"color: #FF6347;\">Area Chart of Asset Weights.</h2>"
   ]
  },
  {
   "cell_type": "code",
   "execution_count": 6,
   "metadata": {},
   "outputs": [],
   "source": [
    "# Insert your code here"
   ]
  },
  {
   "cell_type": "markdown",
   "metadata": {
    "tags": []
   },
   "source": [
    "<h2 style=\"color: #FF6347;\">Chart of Historical Cumulative Returns of the Portfolio.</h2>"
   ]
  },
  {
   "cell_type": "code",
   "execution_count": 7,
   "metadata": {},
   "outputs": [],
   "source": [
    "# Insert your code here"
   ]
  },
  {
   "cell_type": "markdown",
   "metadata": {
    "tags": []
   },
   "source": [
    "<h2 style=\"color: #FF6347;\">Annualized Return.</h2>"
   ]
  },
  {
   "cell_type": "code",
   "execution_count": 8,
   "metadata": {},
   "outputs": [],
   "source": [
    "# Insert your code here"
   ]
  },
  {
   "cell_type": "markdown",
   "metadata": {
    "tags": []
   },
   "source": [
    "<h2 style=\"color: #FF6347;\">Annualized Volatility.</h2>"
   ]
  },
  {
   "cell_type": "code",
   "execution_count": 9,
   "metadata": {},
   "outputs": [],
   "source": [
    "# Insert your code here"
   ]
  },
  {
   "cell_type": "markdown",
   "metadata": {
    "tags": []
   },
   "source": [
    "<h2 style=\"color: #FF6347;\">Area Chart of Asset Weights Grouped by Family.</h2>"
   ]
  },
  {
   "cell_type": "code",
   "execution_count": null,
   "metadata": {},
   "outputs": [],
   "source": [
    "# Insert your code here"
   ]
  }
 ],
 "metadata": {
  "colab": {
   "provenance": [
    {
     "file_id": "1fHXMQvsfUK6jFCwgFlCA_WDoSXI7rzN4",
     "timestamp": 1698662695337
    },
    {
     "file_id": "1OX3IZEGgfyEzu1luFVYojAIp89lVkPmw",
     "timestamp": 1691153287206
    }
   ]
  },
  "kernelspec": {
   "display_name": "ironhack",
   "language": "python",
   "name": "python3"
  },
  "language_info": {
   "codemirror_mode": {
    "name": "ipython",
    "version": 3
   },
   "file_extension": ".py",
   "mimetype": "text/x-python",
   "name": "python",
   "nbconvert_exporter": "python",
   "pygments_lexer": "ipython3",
   "version": "3.13.0"
  }
 },
 "nbformat": 4,
 "nbformat_minor": 4
}
